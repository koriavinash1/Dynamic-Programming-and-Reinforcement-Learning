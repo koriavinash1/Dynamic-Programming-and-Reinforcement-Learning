{
 "cells": [
  {
   "cell_type": "markdown",
   "metadata": {},
   "source": [
    "### Avinash G. Kori | ED15B006 "
   ]
  },
  {
   "cell_type": "code",
   "execution_count": 1,
   "metadata": {},
   "outputs": [],
   "source": [
    "import numpy as np\n",
    "import seaborn as sns\n",
    "import matplotlib.pyplot as plt\n",
    "\n",
    "def imshow(args):\n",
    "    if len(args)==1:\n",
    "        plt.imshow(args[0], interpolation='none')\n",
    "    else:\n",
    "        n=int(len(args)**0.5)\n",
    "        plt.figure(figsize=(15, 15))\n",
    "        for i in range(len(args)):\n",
    "            plt.subplot(n + 1, n,i+1)\n",
    "            plt.imshow(args[i])\n",
    "    plt.show()"
   ]
  },
  {
   "cell_type": "markdown",
   "metadata": {},
   "source": [
    "# Question 1"
   ]
  },
  {
   "cell_type": "code",
   "execution_count": 2,
   "metadata": {},
   "outputs": [],
   "source": [
    "class Question1(object):\n",
    "    def __init__(self):\n",
    "        \"\"\"\n",
    "        \"\"\"\n",
    "        # define probabilities\n",
    "        self.P = np.array([\n",
    "                [[0.5   , 0.25 , 0.250 ],\n",
    "                 [1./16., 3./4., 3./16.],\n",
    "                 [1./4. , 1./8., 5./8. ]],\n",
    "                [[1./2. , 0.   , 1./2. ],\n",
    "                 [1./16. , 7./8., 1./16.],\n",
    "                 [0.    ,   1. , 0     ]],\n",
    "                [[1./4. , 1./4., 1./2. ],\n",
    "                 [1./8. , 3./4., 1./8. ],\n",
    "                 [3./4. ,1./16., 3./16.]]\n",
    "            ])\n",
    "        # define rewards\n",
    "        self.g = np.array([\n",
    "                [[10., 4., 8.],\n",
    "                 [8.,  2., 4.],\n",
    "                 [4.,  6., 4.]],\n",
    "                [[14., 0., 18.],\n",
    "                 [8., 16., 08.],\n",
    "                 [0.,  0., 0. ]],\n",
    "                [[10., 2., 8. ],\n",
    "                 [6. , 4., 2. ],\n",
    "                 [4. , 0., 8.]]\n",
    "            ])\n",
    "        # init J\n",
    "        self.J = np.array([[[0., 0., 0.]]]) # 3x1\n",
    "        \n",
    "    def Toperator(self):\n",
    "        \"\"\"\n",
    "            Applies T operator for current J\n",
    "        \"\"\"\n",
    "        self.J = np.max(np.sum(self.P*(self.g + self.J), \\\n",
    "                                       axis=2), axis=0)\n",
    "        return self.J\n",
    "    \n",
    "    def optPolicy(self):\n",
    "        \"\"\"\n",
    "            Finds optimal policy for current states\n",
    "        \"\"\"\n",
    "        self.optP = (np.argmax(np.sum(self.P*(self.g + self.J), \\\n",
    "                                      axis=2), axis=0)+1)\n",
    "        return self.optP \n",
    "    \n",
    "    def Iterate(self, N = 1000, display_ = True):\n",
    "        \"\"\"\n",
    "            Input Args:\n",
    "                N: number of iterations\n",
    "                display: bool for displaying plots\n",
    "            returns:\n",
    "                J: optimal J\n",
    "                P: optimal policy\n",
    "        \"\"\"\n",
    "        # TODO: display fn\n",
    "        cost_hist, policy_hist = [], []\n",
    "        for _ in range(N): \n",
    "            cost_hist.append(self.Toperator().reshape(3))\n",
    "            policy_hist.append(self.optPolicy().reshape(3))\n",
    "        return self.J.reshape(1,3)[0], self.optP.reshape(1,3)[0]\n",
    "    \n",
    "\n",
    "question1 = Question1()\n",
    "cost10_, policy10_ = question1.Iterate(N = 10)\n",
    "\n",
    "question1 = Question1()\n",
    "cost20_, policy20_ = question1.Iterate(N = 20)"
   ]
  },
  {
   "cell_type": "markdown",
   "metadata": {},
   "source": [
    "### Q1.a Optimal Cost after 10 and 20 iteration "
   ]
  },
  {
   "cell_type": "code",
   "execution_count": 3,
   "metadata": {},
   "outputs": [
    {
     "name": "stdout",
     "output_type": "stream",
     "text": [
      "Optimal Cost after N = 10:  [130.22625127 139.02249011 125.42195281] \n",
      "Optimal Cost after N = 20:  [266.22281269 275.02281248 261.42281245]\n",
      "\n"
     ]
    }
   ],
   "source": [
    "print (\"Optimal Cost after N = 10:  {} \\n\".format(cost10_) +\\\n",
    "       \"Optimal Cost after N = 20:  {}\".format(cost20_) + '\\n')"
   ]
  },
  {
   "cell_type": "markdown",
   "metadata": {},
   "source": [
    "### Q1.b Optimal Policy after 10 and 20 iteration "
   ]
  },
  {
   "cell_type": "code",
   "execution_count": 4,
   "metadata": {},
   "outputs": [
    {
     "name": "stdout",
     "output_type": "stream",
     "text": [
      "Optimal Policy after N = 10:  [2, 2, 2] \n",
      "Optimal Policy after N = 20:  [2, 2, 2]\n",
      "\n"
     ]
    }
   ],
   "source": [
    "print (\"Optimal Policy after N = 10:  {} \\n\".format(list(policy10_)) +\\\n",
    "       \"Optimal Policy after N = 20:  {}\".format(list(policy20_)) + '\\n')"
   ]
  },
  {
   "cell_type": "markdown",
   "metadata": {},
   "source": [
    "### Q1.c\n",
    "\n",
    "As the highest reward is associated with town B and action 2, and highest transition probability from any town to town B is also associated with action 2.\n",
    "\n",
    "This is the reason why taking action 2 (Go to the nearest taxi stand and wait in line) irrespective of state is optimal policy"
   ]
  },
  {
   "cell_type": "markdown",
   "metadata": {},
   "source": [
    "<hr>\n",
    "\n",
    "# Question 2\n",
    "\n",
    "# Action mapping \n",
    "\n",
    "### 0 = ($\\uparrow$, violet) up, 1 = ($\\rightarrow$, blue) right, 2 = ($\\downarrow$, green) down, 3 = ($\\leftarrow$, yellow) left\n"
   ]
  },
  {
   "cell_type": "code",
   "execution_count": 5,
   "metadata": {},
   "outputs": [],
   "source": [
    "class Question2(object):\n",
    "    def __init__(self, variant = 1):\n",
    "        \"\"\"\n",
    "            variant: variant of grid world\n",
    "            variant = 1 (terminal state at (3, 0))\n",
    "            variant = 2 (terminal state at (9, 9))\n",
    "        \"\"\"\n",
    "        self.variant = variant\n",
    "        # init Probabilities\n",
    "        self.P = np.zeros((10, 10, 4, 10, 10))\n",
    "        self.J = np.zeros((1, 1, 1, 10, 10))\n",
    "        # init all rewards with -1\n",
    "        self.g = np.zeros((10, 10, 4, 10, 10)) - 1\n",
    "        # generate Probabilities\n",
    "        self.P = self.generateP()\n",
    "        # generate Rewards\n",
    "        self.g = self.generateR()\n",
    "        \n",
    "    def generateP(self):\n",
    "        \"\"\"\n",
    "            Generates and returns P matrix \n",
    "            5th order Tensor\n",
    "        \"\"\"\n",
    "        for ix in range(self.P.shape[0]):\n",
    "            for iy in range(self.P.shape[1]):\n",
    "                for action in range(self.P.shape[2]):\n",
    "                    temp = np.zeros((10, 10))\n",
    "                    if action == 0: \n",
    "                        temp[ix, min(iy + 1, 9)] = 0.8 \n",
    "                        temp[max(0, ix - 1), iy] = 0.1 \n",
    "                        temp[min(ix + 1, 9), iy] = 0.1 \n",
    "                    elif action == 1:\n",
    "                        temp[ix, min(iy + 1, 9)] = 0.1 \n",
    "                        temp[ix, max(iy - 1, 0)] = 0.1 \n",
    "                        temp[min(ix + 1, 9), iy] = 0.8 \n",
    "                    elif action == 2:\n",
    "                        temp[ix, max(iy - 1, 0)] = 0.8\n",
    "                        temp[min(ix + 1, 9), iy] = 0.1\n",
    "                        temp[max(ix - 1, 0), iy] = 0.1\n",
    "                    else:\n",
    "                        temp[max(ix - 1, 0), iy] = 0.8\n",
    "                        temp[ix, min(iy + 1, 9)] = 0.1\n",
    "                        temp[ix, max(iy - 1, 0)] = 0.1\n",
    "                        \n",
    "                    if (ix, iy) == (3, 2) or (ix, iy) == (4, 2)\\\n",
    "                      or (ix, iy) == (5, 2) or (ix, iy) == (6, 2):\n",
    "                        temp = np.zeros((10, 10))\n",
    "                        temp[0, 0] = 1\n",
    "                    \n",
    "                    if (ix, iy) == (7, 1):\n",
    "                        temp = np.zeros((10, 10))\n",
    "                        temp[7, 9] = 1\n",
    "                    \n",
    "                    if ((ix, iy) == (3, 0) and self.variant == 1) \\\n",
    "                       or (self.variant == 2 and (ix, iy) == (9, 9)):\n",
    "                        temp = np.zeros((10, 10))\n",
    "\n",
    "                    self.P[ix, iy, action] = temp\n",
    "        return self.P\n",
    "    \n",
    "    def generateR(self):\n",
    "        \"\"\"\n",
    "            Generates and returns R matrix \n",
    "            5th order Tensor\n",
    "        \"\"\"\n",
    "        for ix in range(self.P.shape[0]):\n",
    "            for iy in range(self.P.shape[1]):\n",
    "                for action in range(self.P.shape[2]):\n",
    "                    if self.variant == 2 and \\\n",
    "                    ((ix, iy, action) == (8, 9, 1) or \\\n",
    "                        (ix, iy, action) == (9, 8, 0)):\n",
    "                        self.g[ix, iy, action, 9, 9] = 100\n",
    "                        \n",
    "                    if self.variant == 1 and \\\n",
    "                     ((ix, iy, action) == (2, 0, 1) or \\\n",
    "                        (ix, iy, action) == (3, 1, 2)\\\n",
    "                        or(ix, iy, action) == (4, 0, 3)):\n",
    "                        self.g[ix, iy, action, 3, 0] = 100\n",
    "        return self.g\n",
    "                        \n",
    "    def Toperator(self):\n",
    "        \"\"\"\n",
    "            Applies T operator for current J\n",
    "        \"\"\"\n",
    "        self.J = np.max(np.sum(self.P*(self.g +\\\n",
    "                                self.J),\\\n",
    "                               axis=(3, 4)), axis=2)\n",
    "        return self.J\n",
    "    \n",
    "    def optPolicy(self):\n",
    "        \"\"\"\n",
    "            Finds optimal policy for current states\n",
    "        \"\"\"\n",
    "        self.optP = np.argmax(np.sum(self.P*(self.g +\\\n",
    "                                    self.J),\\\n",
    "                                     axis=(3, 4)), axis=2)\n",
    "        return self.optP\n",
    "    \n",
    "    def Iterate(self, N = 1000, display_ = True):\n",
    "        \"\"\"\n",
    "            Input Args:\n",
    "                N: number of iterations\n",
    "                display: bool for displaying plots\n",
    "            returns:\n",
    "                J: optimal J\n",
    "                P: optimal policy\n",
    "                cost_history from 0 to N\n",
    "                policy_history from 0 to N\n",
    "        \"\"\"\n",
    "        cost_hist, policy_hist = [], []\n",
    "        for _ in range(N): \n",
    "            cost_hist.append(np.rot90(self.Toperator().reshape(10, 10)))\n",
    "            policy_hist.append(self.optPolicy().reshape(10, 10))\n",
    "        if display_: imshow(cost_hist)\n",
    "        return (list(self.J.reshape(10, 10)), list(self.optP.reshape(10,10)),\n",
    "               cost_hist, policy_hist)  "
   ]
  },
  {
   "cell_type": "markdown",
   "metadata": {},
   "source": [
    "### Q2.a\n",
    "+ Stopping criteria is decided based on change in value of J from previous iteration\n",
    "+ ($J_{i+1} - J_i$) < T (T is threshold for convergence)"
   ]
  },
  {
   "cell_type": "markdown",
   "metadata": {},
   "source": [
    "### Q2.b"
   ]
  },
  {
   "cell_type": "code",
   "execution_count": 6,
   "metadata": {},
   "outputs": [
    {
     "data": {
      "image/png": "[encoded data removed]",
      "text/plain": [
       "<matplotlib.figure.Figure at 0x7fa338102650>"
      ]
     },
     "metadata": {},
     "output_type": "display_data"
    }
   ],
   "source": [
    "question2 = Question2()\n",
    "j, p, Chist, Phist = question2.Iterate(N=200, display_ = False)\n",
    "\n",
    "diff_hist = np.diff(np.array(Chist), axis = 0)\n",
    "plt.figure(figsize = (15, 5))\n",
    "plt.subplot(1, 2, 1)\n",
    "plt.plot(np.max(diff_hist, axis = (1,2)))\n",
    "plt.title('Convergence for variant 1 (terminal state at (3, 0))')\n",
    "plt.xlabel('iterations')\n",
    "plt.ylabel('max(J_{i+1} - J_i)')\n",
    "\n",
    "question2 = Question2(2)\n",
    "j, p, Chist, Phist = question2.Iterate(N=200, display_ = False)\n",
    "\n",
    "diff_hist = np.diff(np.array(Chist), axis = 0)\n",
    "plt.subplot(1, 2, 2)\n",
    "plt.plot(np.max(diff_hist, axis = (1,2)))\n",
    "plt.title('Convergence for variant 2 (terminal state at (9, 9))')\n",
    "plt.xlabel('iterations')\n",
    "plt.ylabel('max(J_{i+1} - J_i)')\n",
    "plt.show()"
   ]
  },
  {
   "cell_type": "markdown",
   "metadata": {},
   "source": [
    "### Q2.c\n",
    "+ Based on above plots convergence for Variant 1 can be considered around 25th iteration and for Variant 2 around 25th iteration\n",
    "\n",
    "#### Q2.c Variant 1"
   ]
  },
  {
   "cell_type": "code",
   "execution_count": 7,
   "metadata": {},
   "outputs": [
    {
     "name": "stdout",
     "output_type": "stream",
     "text": [
      "Policy => 0: up, 1: right, 2: down, 3: left\n",
      "[[0 2 2 2 2 2 2 1 1 0]\n",
      " [2 2 2 2 2 2 2 2 0 0]\n",
      " [2 2 2 2 2 2 2 2 2 0]\n",
      " [2 2 2 2 2 2 2 2 2 3]\n",
      " [2 2 2 2 2 2 2 2 2 2]\n",
      " [2 2 2 2 2 2 2 2 3 2]\n",
      " [2 2 2 2 2 2 2 3 3 3]\n",
      " [2 2 2 0 0 0 0 3 3 3]\n",
      " [2 1 2 2 2 3 3 0 2 2]\n",
      " [1 1 1 0 3 3 3 3 3 3]]\n"
     ]
    },
    {
     "data": {
      "image/png": "[encoded data removed]",
      "text/plain": [
       "<matplotlib.figure.Figure at 0x7fa2f321aa90>"
      ]
     },
     "metadata": {},
     "output_type": "display_data"
    }
   ],
   "source": [
    "question2 = Question2()\n",
    "j, p, Chist, Phist = question2.Iterate(N=10, display_ = False)\n",
    "\n",
    "plt.subplot(1, 2, 1)\n",
    "plt.imshow(np.rot90(j))\n",
    "plt.colorbar()\n",
    "plt.xlabel(\"J after 10 iterations\")\n",
    "plt.subplot(1, 2, 2)\n",
    "plt.imshow(np.rot90(p))\n",
    "plt.colorbar()\n",
    "plt.xlabel(\"Policy after 10 iterations\")\n",
    "print (\"Policy => 0: up, 1: right, 2: down, 3: left\")\n",
    "print (np.rot90(p))"
   ]
  },
  {
   "cell_type": "code",
   "execution_count": 8,
   "metadata": {},
   "outputs": [
    {
     "name": "stdout",
     "output_type": "stream",
     "text": [
      "Policy => 0: up, 1: right, 2: down, 3: left\n",
      "[[2 2 2 2 2 2 2 2 2 2]\n",
      " [2 2 2 2 2 2 2 2 2 2]\n",
      " [2 2 2 2 2 2 2 2 2 2]\n",
      " [2 2 2 2 2 2 2 2 2 2]\n",
      " [2 2 2 2 2 2 2 2 3 2]\n",
      " [2 2 2 2 2 2 2 3 3 3]\n",
      " [2 2 2 2 2 2 2 3 3 3]\n",
      " [2 2 2 0 0 0 0 3 3 3]\n",
      " [1 1 2 2 2 3 3 0 2 2]\n",
      " [1 1 1 0 3 3 3 3 3 3]]\n"
     ]
    },
    {
     "data": {
      "image/png": "[encoded data removed]",
      "text/plain": [
       "<matplotlib.figure.Figure at 0x7fa2f52f6750>"
      ]
     },
     "metadata": {},
     "output_type": "display_data"
    }
   ],
   "source": [
    "question2 = Question2()\n",
    "j, p, Chist, Phist = question2.Iterate(N=25, display_ = False)\n",
    "\n",
    "plt.subplot(1, 2, 1)\n",
    "plt.imshow(np.rot90(j))\n",
    "plt.colorbar()\n",
    "plt.xlabel(\"J after 25 iterations\")\n",
    "plt.subplot(1, 2, 2)\n",
    "plt.imshow(np.rot90(p))\n",
    "plt.colorbar()\n",
    "plt.xlabel(\"Policy after 25 iterations\")\n",
    "print (\"Policy => 0: up, 1: right, 2: down, 3: left\")\n",
    "print (np.rot90(p))"
   ]
  },
  {
   "cell_type": "markdown",
   "metadata": {},
   "source": [
    "#### Q2.c Variant 2"
   ]
  },
  {
   "cell_type": "code",
   "execution_count": 9,
   "metadata": {},
   "outputs": [
    {
     "name": "stdout",
     "output_type": "stream",
     "text": [
      "Policy => 0: up, 1: right, 2: down, 3: left\n",
      "[[1 1 1 1 1 1 1 1 1 0]\n",
      " [1 1 1 1 1 1 1 1 0 0]\n",
      " [1 1 1 1 1 1 1 1 0 0]\n",
      " [0 1 1 1 1 1 1 0 0 0]\n",
      " [0 0 1 1 1 1 1 1 0 0]\n",
      " [2 2 1 1 1 1 1 1 0 0]\n",
      " [2 2 2 1 1 1 1 2 2 0]\n",
      " [1 2 2 0 0 0 0 1 2 3]\n",
      " [1 1 1 2 2 2 2 0 3 3]\n",
      " [1 1 1 1 1 1 1 0 3 3]]\n"
     ]
    },
    {
     "data": {
      "image/png": "[encoded data removed]",
      "text/plain": [
       "<matplotlib.figure.Figure at 0x7fa338108290>"
      ]
     },
     "metadata": {},
     "output_type": "display_data"
    }
   ],
   "source": [
    "question2 = Question2(2)\n",
    "j, p, Chist, Phist = question2.Iterate(N=10, display_ = False)\n",
    "\n",
    "plt.subplot(1, 2, 1)\n",
    "plt.imshow(np.rot90(j))\n",
    "plt.colorbar()\n",
    "plt.xlabel(\"J after 10 iterations\")\n",
    "plt.subplot(1, 2, 2)\n",
    "plt.imshow(np.rot90(p))\n",
    "plt.colorbar()\n",
    "plt.xlabel(\"Policy after 10 iterations\")\n",
    "print (\"Policy => 0: up, 1: right, 2: down, 3: left\")\n",
    "print (np.rot90(p))"
   ]
  },
  {
   "cell_type": "code",
   "execution_count": 10,
   "metadata": {},
   "outputs": [
    {
     "name": "stdout",
     "output_type": "stream",
     "text": [
      "Policy => 0: up, 1: right, 2: down, 3: left\n",
      "[[1 1 1 1 1 1 1 1 1 0]\n",
      " [1 1 1 1 1 1 1 1 0 0]\n",
      " [1 1 1 1 1 1 1 0 0 0]\n",
      " [0 1 1 1 1 1 1 0 0 0]\n",
      " [0 0 1 1 1 1 1 0 0 0]\n",
      " [0 1 1 1 1 1 1 1 0 0]\n",
      " [1 1 1 0 1 1 1 2 2 0]\n",
      " [2 2 2 0 0 0 0 2 2 3]\n",
      " [1 1 1 2 1 1 1 0 3 3]\n",
      " [1 1 1 1 1 1 1 0 3 3]]\n"
     ]
    },
    {
     "data": {
      "image/png": "[encoded data removed]",
      "text/plain": [
       "<matplotlib.figure.Figure at 0x7fa2f30cee10>"
      ]
     },
     "metadata": {},
     "output_type": "display_data"
    }
   ],
   "source": [
    "question2 = Question2(2)\n",
    "j, p, Chist, Phist = question2.Iterate(N=25, display_ = False)\n",
    "\n",
    "plt.subplot(1, 2, 1)\n",
    "plt.imshow(np.rot90(j))\n",
    "plt.colorbar()\n",
    "plt.xlabel(\"J after 25 iterations\")\n",
    "plt.subplot(1, 2, 2)\n",
    "plt.imshow(np.rot90(p))\n",
    "plt.colorbar()\n",
    "plt.xlabel(\"Policy after 25 iterations\")\n",
    "print (\"Policy => 0: up, 1: right, 2: down, 3: left\")\n",
    "print (np.rot90(p))"
   ]
  },
  {
   "cell_type": "markdown",
   "metadata": {},
   "source": [
    "### Q2.d\n",
    "+ Once value iteration is converged the cost and policy per state remains constant\n",
    "+ After convergence action at each state leads to terminal state high reward (+100)\n",
    "\n",
    "<hr>\n",
    "\n",
    "### Reference\n",
    "+ Prashanth L. A. CS6700: Reinforcement learning Course notes, 2018\n",
    "+ Dimitri P. Bertsekas. Dynamic Programming and Optimal Control, vol. I. Athena Scientific, 2017."
   ]
  }
 ],
 "metadata": {
  "kernelspec": {
   "display_name": "Python 2",
   "language": "python",
   "name": "python2"
  },
  "language_info": {
   "codemirror_mode": {
    "name": "ipython",
    "version": 2
   },
   "file_extension": ".py",
   "mimetype": "text/x-python",
   "name": "python",
   "nbconvert_exporter": "python",
   "pygments_lexer": "ipython2",
   "version": "2.7.14"
  }
 },
 "nbformat": 4,
 "nbformat_minor": 2
}
